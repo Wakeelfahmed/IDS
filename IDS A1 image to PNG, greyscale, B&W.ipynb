{
  "nbformat": 4,
  "nbformat_minor": 0,
  "metadata": {
    "colab": {
      "provenance": []
    },
    "kernelspec": {
      "name": "python3",
      "display_name": "Python 3"
    },
    "language_info": {
      "name": "python"
    }
  },
  "cells": [
    {
      "cell_type": "code",
      "execution_count": null,
      "metadata": {
        "colab": {
          "base_uri": "https://localhost:8080/"
        },
        "id": "v54yeEY_epB6",
        "outputId": "52b10ee2-6b88-4822-d5c7-645fb0eb14e6"
      },
      "outputs": [
        {
          "output_type": "stream",
          "name": "stdout",
          "text": [
            "Drive already mounted at /content/drive; to attempt to forcibly remount, call drive.mount(\"/content/drive\", force_remount=True).\n",
            "Requirement already satisfied: Pillow in /usr/local/lib/python3.10/dist-packages (9.4.0)\n"
          ]
        }
      ],
      "source": [
        "# Mount Google Drive to access files\n",
        "from google.colab import drive\n",
        "drive.mount('/content/drive')\n",
        "\n",
        "# Install Pillow if not already installed\n",
        "!pip install Pillow\n",
        "\n",
        "# Import necessary libraries\n",
        "from PIL import Image\n",
        "\n",
        "# Set the file path to your image in Google Drive\n",
        "image_path = '/content/drive/MyDrive/Close up.jpg'\n",
        "\n",
        "# Load the image\n",
        "original_image = Image.open(image_path)\n",
        "\n",
        "# Convert the image to PNG\n",
        "png_image_path = '/content/drive/MyDrive/Close up PNG Converter.png'\n",
        "original_image.save(png_image_path, format='PNG')\n",
        "\n",
        "converted_image = Image.open(png_image_path)\n",
        "\n",
        "# Convert the image to grayscale\n",
        "gray_image = converted_image.convert('L')\n",
        "\n",
        "# Convert the original image to negative\n",
        "negative_image = Image.eval(converted_image, lambda x: 255 - x)\n",
        "\n",
        "# Convert the image to B & W\n",
        "B_and_White_image = converted_image.convert('1')\n",
        "\n",
        "# Save the grayscale image as PNG\n",
        "gray_image_path = '/content/drive/MyDrive/gray_image.png'\n",
        "gray_image.save(gray_image_path, format='PNG')\n",
        "\n",
        "# Save the negative image as PNG\n",
        "B_and_White_image_path = '/content/drive/MyDrive/B_and_White.png'\n",
        "B_and_White_image.save(B_and_White_image_path, format='PNG')\n",
        "\n",
        "# Save the negative image as PNG\n",
        "negative_image_path = '/content/drive/MyDrive/negative_image.png'\n",
        "negative_image.save(negative_image_path, format='PNG')\n",
        "\n",
        "# Display the original and converted images (optional)\n",
        "original_image.show()\n",
        "converted_image.show()\n"
      ]
    }
  ]
}